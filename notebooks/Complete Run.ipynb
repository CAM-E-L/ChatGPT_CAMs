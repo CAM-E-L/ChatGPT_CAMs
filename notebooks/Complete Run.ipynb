{
 "cells": [
  {
   "cell_type": "code",
   "execution_count": null,
   "metadata": {},
   "outputs": [],
   "source": [
    "%cd ./../"
   ]
  },
  {
   "cell_type": "code",
   "execution_count": null,
   "metadata": {},
   "outputs": [],
   "source": [
    "import os\n",
    "os.chdir('C:/DATEN/PHD/Project_ChatGPT')\n",
    "\n",
    "from importlib import reload\n",
    "import pandas as pd\n",
    "\n",
    "import src.prompt_functions as pi\n",
    "import src.prompt_text as pt\n",
    "import src.get_data as gd\n",
    "#import src.API_key as key"
   ]
  },
  {
   "cell_type": "code",
   "execution_count": null,
   "metadata": {},
   "outputs": [],
   "source": [
    "df_partitions = pd.read_excel('./data/LeidenAlgorithm_solution.xlsx')\n",
    "df_partitions.rename(columns={'parition': 'partition'}, inplace=True)"
   ]
  },
  {
   "cell_type": "code",
   "execution_count": null,
   "metadata": {},
   "outputs": [],
   "source": [
    "pt=reload(pt)\n",
    "pi=reload(pi)\n",
    "prompt_text = pt.template_partitions\n",
    "prompt_text"
   ]
  },
  {
   "cell_type": "code",
   "execution_count": null,
   "metadata": {},
   "outputs": [],
   "source": [
    "pi=reload(pi)\n",
    "chosen_partitions = [1, 2] \n",
    "examplary_template = pi.prompt_template(df_partitions, chosen_partitions, prompt_text)\n",
    "print(examplary_template)"
   ]
  },
  {
   "cell_type": "code",
   "execution_count": null,
   "metadata": {},
   "outputs": [],
   "source": [
    "# add hidden information"
   ]
  },
  {
   "cell_type": "code",
   "execution_count": null,
   "metadata": {},
   "outputs": [],
   "source": [
    "result, full_response = pi.process_partitions(df_partitions, prompt_text, api_key, model=\"gpt-3.5-turbo\", chosen_partitions=[(1,2)], max_tokens=150, max_API_calls=1) \n",
    "\n",
    "print(result)\n",
    "print(full_response)"
   ]
  },
  {
   "cell_type": "code",
   "execution_count": null,
   "metadata": {},
   "outputs": [],
   "source": [
    "import csv\n",
    "\n",
    "filename = './output/result_random.csv'\n",
    "\n",
    "counter = 1\n",
    "base_name = filename.split('.')[0]\n",
    "extension = filename.split('.')[-1]\n",
    "new_filename = filename\n",
    "\n",
    "while os.path.exists(new_filename):\n",
    "    new_filename = f\"{base_name}_{counter}.{extension}\"\n",
    "    counter += 1\n",
    "if new_filename != filename:\n",
    "    print(\"File already exists. Using new filename:\", new_filename)\n",
    "with open(new_filename, mode='w', newline='', encoding='utf-8') as file:\n",
    "    writer = csv.writer(file)\n",
    "    # each result as a new row\n",
    "    for entry in result:\n",
    "        writer.writerow([entry])\n",
    "print(\"Data has been written to\", new_filename)"
   ]
  }
 ],
 "metadata": {
  "kernelspec": {
   "display_name": "spaceenvironment",
   "language": "python",
   "name": "python3"
  },
  "language_info": {
   "codemirror_mode": {
    "name": "ipython",
    "version": 3
   },
   "file_extension": ".py",
   "mimetype": "text/x-python",
   "name": "python",
   "nbconvert_exporter": "python",
   "pygments_lexer": "ipython3",
   "version": "3.10.14"
  }
 },
 "nbformat": 4,
 "nbformat_minor": 2
}
