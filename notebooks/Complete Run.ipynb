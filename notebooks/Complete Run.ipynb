{
 "cells": [
  {
   "cell_type": "code",
   "execution_count": 120,
   "metadata": {},
   "outputs": [
    {
     "name": "stdout",
     "output_type": "stream",
     "text": [
      "/Users/Lukas/Workspace/Allgemeine_Psychologie\n"
     ]
    },
    {
     "name": "stderr",
     "output_type": "stream",
     "text": [
      "/Users/Lukas/Workspace/Allgemeine_Psychologie/basal_attributes/.venv/lib/python3.12/site-packages/IPython/core/magics/osm.py:417: UserWarning: This is now an optional IPython functionality, setting dhist requires you to install the `pickleshare` library.\n",
      "  self.shell.db['dhist'] = compress_dhist(dhist)[-100:]\n"
     ]
    }
   ],
   "source": [
    "%cd ./../"
   ]
  },
  {
   "cell_type": "code",
   "execution_count": 2,
   "metadata": {},
   "outputs": [
    {
     "name": "stderr",
     "output_type": "stream",
     "text": [
      "C:\\Users\\fenn\\AppData\\Local\\Temp\\ipykernel_24412\\3429776717.py:4: DeprecationWarning: \n",
      "Pyarrow will become a required dependency of pandas in the next major release of pandas (pandas 3.0),\n",
      "(to allow more performant data types, such as the Arrow string type, and better interoperability with other libraries)\n",
      "but was not found to be installed on your system.\n",
      "If this would cause problems for you,\n",
      "please provide us feedback at https://github.com/pandas-dev/pandas/issues/54466\n",
      "        \n",
      "  import pandas as pd\n"
     ]
    }
   ],
   "source": [
    "import os\n",
    "os.chdir('C:/DATEN/PHD/Project_CAMsLLM')\n",
    "from importlib import reload\n",
    "import pandas as pd\n",
    "\n",
    "import src.prompt_functions as pi\n",
    "import src.prompt_text as pt\n",
    "import src.get_data as get_data\n",
    "import src.API_key as key"
   ]
  },
  {
   "cell_type": "code",
   "execution_count": 3,
   "metadata": {},
   "outputs": [],
   "source": [
    "df_partitions = pd.read_excel('./data/LeidenAlgorithm_solution.xlsx')\n",
    "df_partitions.rename(columns={'parition': 'partition'}, inplace=True)"
   ]
  },
  {
   "cell_type": "code",
   "execution_count": 4,
   "metadata": {},
   "outputs": [
    {
     "data": {
      "text/html": [
       "<div>\n",
       "<style scoped>\n",
       "    .dataframe tbody tr th:only-of-type {\n",
       "        vertical-align: middle;\n",
       "    }\n",
       "\n",
       "    .dataframe tbody tr th {\n",
       "        vertical-align: top;\n",
       "    }\n",
       "\n",
       "    .dataframe thead th {\n",
       "        text-align: right;\n",
       "    }\n",
       "</style>\n",
       "<table border=\"1\" class=\"dataframe\">\n",
       "  <thead>\n",
       "    <tr style=\"text-align: right;\">\n",
       "      <th></th>\n",
       "      <th>Unnamed: 0</th>\n",
       "      <th>partition</th>\n",
       "      <th>words</th>\n",
       "      <th>mean_valence</th>\n",
       "      <th>sd_valence</th>\n",
       "    </tr>\n",
       "  </thead>\n",
       "  <tbody>\n",
       "    <tr>\n",
       "      <th>0</th>\n",
       "      <td>1</td>\n",
       "      <td>1</td>\n",
       "      <td>aktive Formänderung durch Umwelteinwirkung</td>\n",
       "      <td>0.177515</td>\n",
       "      <td>1.140892</td>\n",
       "    </tr>\n",
       "    <tr>\n",
       "      <th>1</th>\n",
       "      <td>2</td>\n",
       "      <td>1</td>\n",
       "      <td>reaktionsfähig</td>\n",
       "      <td>0.668639</td>\n",
       "      <td>1.111209</td>\n",
       "    </tr>\n",
       "    <tr>\n",
       "      <th>2</th>\n",
       "      <td>3</td>\n",
       "      <td>1</td>\n",
       "      <td>passive Formänderung durch Umwelteinwirkung</td>\n",
       "      <td>-0.017751</td>\n",
       "      <td>1.131126</td>\n",
       "    </tr>\n",
       "    <tr>\n",
       "      <th>3</th>\n",
       "      <td>4</td>\n",
       "      <td>1</td>\n",
       "      <td>autonom</td>\n",
       "      <td>0.751479</td>\n",
       "      <td>0.949819</td>\n",
       "    </tr>\n",
       "    <tr>\n",
       "      <th>4</th>\n",
       "      <td>5</td>\n",
       "      <td>1</td>\n",
       "      <td>passive Verhaltensänderung durch Umwelteinwirkung</td>\n",
       "      <td>0.059172</td>\n",
       "      <td>1.056184</td>\n",
       "    </tr>\n",
       "    <tr>\n",
       "      <th>5</th>\n",
       "      <td>6</td>\n",
       "      <td>1</td>\n",
       "      <td>aktive Verhaltensänderung durch Umwelteinwirkung</td>\n",
       "      <td>0.272189</td>\n",
       "      <td>1.148185</td>\n",
       "    </tr>\n",
       "    <tr>\n",
       "      <th>6</th>\n",
       "      <td>7</td>\n",
       "      <td>1</td>\n",
       "      <td>intelligent</td>\n",
       "      <td>1.349112</td>\n",
       "      <td>1.103033</td>\n",
       "    </tr>\n",
       "    <tr>\n",
       "      <th>7</th>\n",
       "      <td>8</td>\n",
       "      <td>1</td>\n",
       "      <td>multifunktional</td>\n",
       "      <td>1.650888</td>\n",
       "      <td>1.024702</td>\n",
       "    </tr>\n",
       "    <tr>\n",
       "      <th>8</th>\n",
       "      <td>9</td>\n",
       "      <td>1</td>\n",
       "      <td>technologisch</td>\n",
       "      <td>0.763314</td>\n",
       "      <td>0.959081</td>\n",
       "    </tr>\n",
       "    <tr>\n",
       "      <th>9</th>\n",
       "      <td>10</td>\n",
       "      <td>2</td>\n",
       "      <td>zuverlässig</td>\n",
       "      <td>2.171598</td>\n",
       "      <td>1.017770</td>\n",
       "    </tr>\n",
       "    <tr>\n",
       "      <th>10</th>\n",
       "      <td>11</td>\n",
       "      <td>2</td>\n",
       "      <td>wartungsfrei</td>\n",
       "      <td>1.751479</td>\n",
       "      <td>1.158720</td>\n",
       "    </tr>\n",
       "    <tr>\n",
       "      <th>11</th>\n",
       "      <td>12</td>\n",
       "      <td>2</td>\n",
       "      <td>selbstheilend</td>\n",
       "      <td>1.650888</td>\n",
       "      <td>1.124411</td>\n",
       "    </tr>\n",
       "    <tr>\n",
       "      <th>12</th>\n",
       "      <td>13</td>\n",
       "      <td>2</td>\n",
       "      <td>widerstandsfähig</td>\n",
       "      <td>1.739645</td>\n",
       "      <td>1.053747</td>\n",
       "    </tr>\n",
       "    <tr>\n",
       "      <th>13</th>\n",
       "      <td>14</td>\n",
       "      <td>2</td>\n",
       "      <td>selbstreparierend</td>\n",
       "      <td>1.786982</td>\n",
       "      <td>1.064389</td>\n",
       "    </tr>\n",
       "    <tr>\n",
       "      <th>14</th>\n",
       "      <td>15</td>\n",
       "      <td>2</td>\n",
       "      <td>haltbar</td>\n",
       "      <td>1.928994</td>\n",
       "      <td>1.131655</td>\n",
       "    </tr>\n",
       "    <tr>\n",
       "      <th>15</th>\n",
       "      <td>16</td>\n",
       "      <td>2</td>\n",
       "      <td>robust</td>\n",
       "      <td>1.822485</td>\n",
       "      <td>0.965705</td>\n",
       "    </tr>\n",
       "    <tr>\n",
       "      <th>16</th>\n",
       "      <td>17</td>\n",
       "      <td>2</td>\n",
       "      <td>langlebig</td>\n",
       "      <td>2.218935</td>\n",
       "      <td>1.008592</td>\n",
       "    </tr>\n",
       "    <tr>\n",
       "      <th>17</th>\n",
       "      <td>18</td>\n",
       "      <td>3</td>\n",
       "      <td>Akzeptanz eines neuen Materialsystems</td>\n",
       "      <td>0.355030</td>\n",
       "      <td>0.854603</td>\n",
       "    </tr>\n",
       "    <tr>\n",
       "      <th>18</th>\n",
       "      <td>19</td>\n",
       "      <td>3</td>\n",
       "      <td>wartungsintensiv</td>\n",
       "      <td>-2.041420</td>\n",
       "      <td>1.008033</td>\n",
       "    </tr>\n",
       "    <tr>\n",
       "      <th>19</th>\n",
       "      <td>20</td>\n",
       "      <td>3</td>\n",
       "      <td>enthält Kunststoff</td>\n",
       "      <td>-1.041420</td>\n",
       "      <td>1.125225</td>\n",
       "    </tr>\n",
       "    <tr>\n",
       "      <th>20</th>\n",
       "      <td>21</td>\n",
       "      <td>3</td>\n",
       "      <td>leicht zerstörbar</td>\n",
       "      <td>-1.798817</td>\n",
       "      <td>1.403990</td>\n",
       "    </tr>\n",
       "    <tr>\n",
       "      <th>21</th>\n",
       "      <td>22</td>\n",
       "      <td>3</td>\n",
       "      <td>umweltschädlich</td>\n",
       "      <td>-2.603550</td>\n",
       "      <td>0.927227</td>\n",
       "    </tr>\n",
       "    <tr>\n",
       "      <th>22</th>\n",
       "      <td>23</td>\n",
       "      <td>4</td>\n",
       "      <td>Energie speichernd</td>\n",
       "      <td>1.497041</td>\n",
       "      <td>0.994774</td>\n",
       "    </tr>\n",
       "    <tr>\n",
       "      <th>23</th>\n",
       "      <td>24</td>\n",
       "      <td>4</td>\n",
       "      <td>energieeffizient</td>\n",
       "      <td>2.076923</td>\n",
       "      <td>1.011835</td>\n",
       "    </tr>\n",
       "    <tr>\n",
       "      <th>24</th>\n",
       "      <td>25</td>\n",
       "      <td>4</td>\n",
       "      <td>energieautonom</td>\n",
       "      <td>1.426036</td>\n",
       "      <td>1.067165</td>\n",
       "    </tr>\n",
       "    <tr>\n",
       "      <th>25</th>\n",
       "      <td>26</td>\n",
       "      <td>4</td>\n",
       "      <td>Energie generierend</td>\n",
       "      <td>1.715976</td>\n",
       "      <td>1.181118</td>\n",
       "    </tr>\n",
       "    <tr>\n",
       "      <th>26</th>\n",
       "      <td>27</td>\n",
       "      <td>5</td>\n",
       "      <td>ökologisch</td>\n",
       "      <td>1.899408</td>\n",
       "      <td>1.044515</td>\n",
       "    </tr>\n",
       "    <tr>\n",
       "      <th>27</th>\n",
       "      <td>28</td>\n",
       "      <td>5</td>\n",
       "      <td>elektronikfrei</td>\n",
       "      <td>0.455621</td>\n",
       "      <td>1.074369</td>\n",
       "    </tr>\n",
       "    <tr>\n",
       "      <th>28</th>\n",
       "      <td>29</td>\n",
       "      <td>5</td>\n",
       "      <td>nachhaltig</td>\n",
       "      <td>2.384615</td>\n",
       "      <td>0.981981</td>\n",
       "    </tr>\n",
       "    <tr>\n",
       "      <th>29</th>\n",
       "      <td>30</td>\n",
       "      <td>5</td>\n",
       "      <td>umweltfreundlich</td>\n",
       "      <td>2.491124</td>\n",
       "      <td>0.932983</td>\n",
       "    </tr>\n",
       "    <tr>\n",
       "      <th>30</th>\n",
       "      <td>31</td>\n",
       "      <td>6</td>\n",
       "      <td>Insekten ähnlich</td>\n",
       "      <td>-0.118343</td>\n",
       "      <td>1.143390</td>\n",
       "    </tr>\n",
       "    <tr>\n",
       "      <th>31</th>\n",
       "      <td>32</td>\n",
       "      <td>6</td>\n",
       "      <td>bioinspiriert</td>\n",
       "      <td>0.781065</td>\n",
       "      <td>1.031929</td>\n",
       "    </tr>\n",
       "    <tr>\n",
       "      <th>32</th>\n",
       "      <td>33</td>\n",
       "      <td>6</td>\n",
       "      <td>lebensähnlich</td>\n",
       "      <td>0.325444</td>\n",
       "      <td>0.922924</td>\n",
       "    </tr>\n",
       "  </tbody>\n",
       "</table>\n",
       "</div>"
      ],
      "text/plain": [
       "    Unnamed: 0  partition                                              words  \\\n",
       "0            1          1         aktive Formänderung durch Umwelteinwirkung   \n",
       "1            2          1                                     reaktionsfähig   \n",
       "2            3          1        passive Formänderung durch Umwelteinwirkung   \n",
       "3            4          1                                            autonom   \n",
       "4            5          1  passive Verhaltensänderung durch Umwelteinwirkung   \n",
       "5            6          1   aktive Verhaltensänderung durch Umwelteinwirkung   \n",
       "6            7          1                                        intelligent   \n",
       "7            8          1                                    multifunktional   \n",
       "8            9          1                                      technologisch   \n",
       "9           10          2                                        zuverlässig   \n",
       "10          11          2                                       wartungsfrei   \n",
       "11          12          2                                      selbstheilend   \n",
       "12          13          2                                   widerstandsfähig   \n",
       "13          14          2                                  selbstreparierend   \n",
       "14          15          2                                            haltbar   \n",
       "15          16          2                                             robust   \n",
       "16          17          2                                          langlebig   \n",
       "17          18          3              Akzeptanz eines neuen Materialsystems   \n",
       "18          19          3                                   wartungsintensiv   \n",
       "19          20          3                                 enthält Kunststoff   \n",
       "20          21          3                                  leicht zerstörbar   \n",
       "21          22          3                                    umweltschädlich   \n",
       "22          23          4                                 Energie speichernd   \n",
       "23          24          4                                   energieeffizient   \n",
       "24          25          4                                     energieautonom   \n",
       "25          26          4                                Energie generierend   \n",
       "26          27          5                                         ökologisch   \n",
       "27          28          5                                     elektronikfrei   \n",
       "28          29          5                                         nachhaltig   \n",
       "29          30          5                                   umweltfreundlich   \n",
       "30          31          6                                   Insekten ähnlich   \n",
       "31          32          6                                      bioinspiriert   \n",
       "32          33          6                                      lebensähnlich   \n",
       "\n",
       "    mean_valence  sd_valence  \n",
       "0       0.177515    1.140892  \n",
       "1       0.668639    1.111209  \n",
       "2      -0.017751    1.131126  \n",
       "3       0.751479    0.949819  \n",
       "4       0.059172    1.056184  \n",
       "5       0.272189    1.148185  \n",
       "6       1.349112    1.103033  \n",
       "7       1.650888    1.024702  \n",
       "8       0.763314    0.959081  \n",
       "9       2.171598    1.017770  \n",
       "10      1.751479    1.158720  \n",
       "11      1.650888    1.124411  \n",
       "12      1.739645    1.053747  \n",
       "13      1.786982    1.064389  \n",
       "14      1.928994    1.131655  \n",
       "15      1.822485    0.965705  \n",
       "16      2.218935    1.008592  \n",
       "17      0.355030    0.854603  \n",
       "18     -2.041420    1.008033  \n",
       "19     -1.041420    1.125225  \n",
       "20     -1.798817    1.403990  \n",
       "21     -2.603550    0.927227  \n",
       "22      1.497041    0.994774  \n",
       "23      2.076923    1.011835  \n",
       "24      1.426036    1.067165  \n",
       "25      1.715976    1.181118  \n",
       "26      1.899408    1.044515  \n",
       "27      0.455621    1.074369  \n",
       "28      2.384615    0.981981  \n",
       "29      2.491124    0.932983  \n",
       "30     -0.118343    1.143390  \n",
       "31      0.781065    1.031929  \n",
       "32      0.325444    0.922924  "
      ]
     },
     "execution_count": 4,
     "metadata": {},
     "output_type": "execute_result"
    }
   ],
   "source": [
    "df_partitions"
   ]
  },
  {
   "cell_type": "code",
   "execution_count": 5,
   "metadata": {},
   "outputs": [
    {
     "data": {
      "text/plain": [
       "'\\n<Background:\\n\\n<Task:\\n\"Imagine a scenario where a construction company is developing a new housing complex using a revolutionary but untested material system. \\nThe material is known to be \\'wartungsintensiv\\' (maintenance-intensive), has an uncertain \\'Akzeptanz eines neuen Materialsystems\\' \\n(acceptance of a new material system), and is \\'leicht zerstörbar\\' (easily destructible). \\n\\nWrite a short story related to this new material system.\\nImagine you are \\'Dave Smith\\', a marketing manager at the construction company.\\n({items_list})>\\n    Answer: '"
      ]
     },
     "execution_count": 5,
     "metadata": {},
     "output_type": "execute_result"
    }
   ],
   "source": [
    "pt=reload(pt)\n",
    "prompt_text = pt.template_partitions\n",
    "prompt_text"
   ]
  },
  {
   "cell_type": "code",
   "execution_count": 6,
   "metadata": {},
   "outputs": [
    {
     "name": "stdout",
     "output_type": "stream",
     "text": [
      "\n",
      "<Background:\n",
      "\n",
      "<Task:\n",
      "\"Imagine a scenario where a construction company is developing a new housing complex using a revolutionary but untested material system. \n",
      "The material is known to be 'wartungsintensiv' (maintenance-intensive), has an uncertain 'Akzeptanz eines neuen Materialsystems' \n",
      "(acceptance of a new material system), and is 'leicht zerstörbar' (easily destructible). \n",
      "\n",
      "Write a short story related to this new material system.\n",
      "Imagine you are 'Dave Smith', a marketing manager at the construction company.\n",
      "(aktive Formänderung durch Umwelteinwirkung, reaktionsfähig, passive Formänderung durch Umwelteinwirkung, autonom, passive Verhaltensänderung durch Umwelteinwirkung, aktive Verhaltensänderung durch Umwelteinwirkung, intelligent, multifunktional, technologisch, zuverlässig, wartungsfrei, selbstheilend, widerstandsfähig, selbstreparierend, haltbar, robust, langlebig)>\n",
      "    Answer: \n"
     ]
    }
   ],
   "source": [
    "pi=reload(pi)\n",
    "chosen_partitions = [1, 2] \n",
    "examplary_template = pi.prompt_template(df_partitions, chosen_partitions, prompt_text)\n",
    "print(examplary_template)"
   ]
  },
  {
   "cell_type": "code",
   "execution_count": 7,
   "metadata": {},
   "outputs": [],
   "source": [
    "api_key = key.openai_api_key"
   ]
  },
  {
   "cell_type": "code",
   "execution_count": 8,
   "metadata": {},
   "outputs": [
    {
     "name": "stderr",
     "output_type": "stream",
     "text": [
      "c:\\Users\\fenn\\AppData\\Local\\R-MINI~1\\lib\\site-packages\\langchain_core\\_api\\deprecation.py:119: LangChainDeprecationWarning: The class `LLMChain` was deprecated in LangChain 0.1.17 and will be removed in 0.3.0. Use RunnableSequence, e.g., `prompt | llm` instead.\n",
      "  warn_deprecated(\n"
     ]
    },
    {
     "name": "stdout",
     "output_type": "stream",
     "text": [
      "Tokens Used: 704\n",
      "\tPrompt Tokens: 234\n",
      "\tCompletion Tokens: 470\n",
      "Successful Requests: 1\n",
      "Total Cost (USD): $0.035219999999999994\n"
     ]
    }
   ],
   "source": [
    "result, full_response = pi.process_partitions(df_partitions, prompt_text, api_key, model=\"gpt-4\", chosen_partitions=[(1,2)], max_tokens=500, max_API_calls=1) "
   ]
  },
  {
   "cell_type": "code",
   "execution_count": 9,
   "metadata": {},
   "outputs": [
    {
     "data": {
      "text/plain": [
       "[{'items_list': 'aktive Formänderung durch Umwelteinwirkung, reaktionsfähig, passive Formänderung durch Umwelteinwirkung, autonom, passive Verhaltensänderung durch Umwelteinwirkung, aktive Verhaltensänderung durch Umwelteinwirkung, intelligent, multifunktional, technologisch, zuverlässig, wartungsfrei, selbstheilend, widerstandsfähig, selbstreparierend, haltbar, robust, langlebig',\n",
       "  'text': \"As Dave Smith, the marketing manager at a leading construction company, I was both excited and apprehensive about our latest project. We were about to embark on a journey of constructing a new housing complex using a revolutionary but untested material system. This material was unlike anything we had ever used before. It was intelligent, multifunctional, and technologically advanced. However, it was also known to be 'wartungsintensiv' (maintenance-intensive), 'leicht zerstörbar' (easily destructible), and had an uncertain 'Akzeptanz eines neuen Materialsystems' (acceptance of a new material system).\\n\\nThe material was designed to be reactive to environmental changes, capable of both active and passive shape changes. It was autonomous, capable of passive behavior changes due to environmental impact, and could actively change its behavior in response to environmental influences. It was a marvel of modern engineering, but it was also a gamble.\\n\\nThe material's maintenance-intensive nature meant that it required regular upkeep to maintain its functionality. This was a challenge, as it added to the overall cost of the project and required a dedicated team for its maintenance. The fact that it was easily destructible was another concern. We had to ensure that the housing complex was built in a way that minimized potential damage.\\n\\nThe acceptance of this new material system was also uncertain. Would people be willing to live in a house made of a material that was so different from traditional construction materials? Would they trust its reliability, despite its need for regular maintenance and its vulnerability to damage?\\n\\nDespite these challenges, we believed in the potential of this new material. It was reliable, self-healing, resistant, self-repairing, durable, robust, and long-lasting. We knew that if we could successfully navigate its challenges, it could revolutionize the construction industry.\\n\\nAs the marketing manager, it was my job to communicate the benefits of this new material system to potential buyers. I had to convince them that despite its maintenance-intensive nature and its vulnerability to damage, it was a worthwhile investment. I had to assure them that our company was committed to maintaining the material and ensuring its longevity.\\n\\nIt was a challenging task, but I was ready to take it on. I believed in the potential of this new material system, and I was determined to help our company succeed in this ambitious project.\",\n",
       "  'full_generation': [ChatGeneration(text=\"As Dave Smith, the marketing manager at a leading construction company, I was both excited and apprehensive about our latest project. We were about to embark on a journey of constructing a new housing complex using a revolutionary but untested material system. This material was unlike anything we had ever used before. It was intelligent, multifunctional, and technologically advanced. However, it was also known to be 'wartungsintensiv' (maintenance-intensive), 'leicht zerstörbar' (easily destructible), and had an uncertain 'Akzeptanz eines neuen Materialsystems' (acceptance of a new material system).\\n\\nThe material was designed to be reactive to environmental changes, capable of both active and passive shape changes. It was autonomous, capable of passive behavior changes due to environmental impact, and could actively change its behavior in response to environmental influences. It was a marvel of modern engineering, but it was also a gamble.\\n\\nThe material's maintenance-intensive nature meant that it required regular upkeep to maintain its functionality. This was a challenge, as it added to the overall cost of the project and required a dedicated team for its maintenance. The fact that it was easily destructible was another concern. We had to ensure that the housing complex was built in a way that minimized potential damage.\\n\\nThe acceptance of this new material system was also uncertain. Would people be willing to live in a house made of a material that was so different from traditional construction materials? Would they trust its reliability, despite its need for regular maintenance and its vulnerability to damage?\\n\\nDespite these challenges, we believed in the potential of this new material. It was reliable, self-healing, resistant, self-repairing, durable, robust, and long-lasting. We knew that if we could successfully navigate its challenges, it could revolutionize the construction industry.\\n\\nAs the marketing manager, it was my job to communicate the benefits of this new material system to potential buyers. I had to convince them that despite its maintenance-intensive nature and its vulnerability to damage, it was a worthwhile investment. I had to assure them that our company was committed to maintaining the material and ensuring its longevity.\\n\\nIt was a challenging task, but I was ready to take it on. I believed in the potential of this new material system, and I was determined to help our company succeed in this ambitious project.\", generation_info={'finish_reason': 'stop', 'logprobs': None}, message=AIMessage(content=\"As Dave Smith, the marketing manager at a leading construction company, I was both excited and apprehensive about our latest project. We were about to embark on a journey of constructing a new housing complex using a revolutionary but untested material system. This material was unlike anything we had ever used before. It was intelligent, multifunctional, and technologically advanced. However, it was also known to be 'wartungsintensiv' (maintenance-intensive), 'leicht zerstörbar' (easily destructible), and had an uncertain 'Akzeptanz eines neuen Materialsystems' (acceptance of a new material system).\\n\\nThe material was designed to be reactive to environmental changes, capable of both active and passive shape changes. It was autonomous, capable of passive behavior changes due to environmental impact, and could actively change its behavior in response to environmental influences. It was a marvel of modern engineering, but it was also a gamble.\\n\\nThe material's maintenance-intensive nature meant that it required regular upkeep to maintain its functionality. This was a challenge, as it added to the overall cost of the project and required a dedicated team for its maintenance. The fact that it was easily destructible was another concern. We had to ensure that the housing complex was built in a way that minimized potential damage.\\n\\nThe acceptance of this new material system was also uncertain. Would people be willing to live in a house made of a material that was so different from traditional construction materials? Would they trust its reliability, despite its need for regular maintenance and its vulnerability to damage?\\n\\nDespite these challenges, we believed in the potential of this new material. It was reliable, self-healing, resistant, self-repairing, durable, robust, and long-lasting. We knew that if we could successfully navigate its challenges, it could revolutionize the construction industry.\\n\\nAs the marketing manager, it was my job to communicate the benefits of this new material system to potential buyers. I had to convince them that despite its maintenance-intensive nature and its vulnerability to damage, it was a worthwhile investment. I had to assure them that our company was committed to maintaining the material and ensuring its longevity.\\n\\nIt was a challenging task, but I was ready to take it on. I believed in the potential of this new material system, and I was determined to help our company succeed in this ambitious project.\", response_metadata={'token_usage': {'completion_tokens': 470, 'prompt_tokens': 234, 'total_tokens': 704}, 'model_name': 'gpt-4', 'system_fingerprint': None, 'finish_reason': 'stop', 'logprobs': None}, id='run-3c020c81-a1dc-4e3d-b719-446d51ed08ca-0'))]}]"
      ]
     },
     "execution_count": 9,
     "metadata": {},
     "output_type": "execute_result"
    }
   ],
   "source": [
    "full_response"
   ]
  },
  {
   "cell_type": "code",
   "execution_count": 10,
   "metadata": {},
   "outputs": [
    {
     "data": {
      "text/plain": [
       "[\"As Dave Smith, the marketing manager at a leading construction company, I was both excited and apprehensive about our latest project. We were about to embark on a journey of constructing a new housing complex using a revolutionary but untested material system. This material was unlike anything we had ever used before. It was intelligent, multifunctional, and technologically advanced. However, it was also known to be 'wartungsintensiv' (maintenance-intensive), 'leicht zerstörbar' (easily destructible), and had an uncertain 'Akzeptanz eines neuen Materialsystems' (acceptance of a new material system).\\n\\nThe material was designed to be reactive to environmental changes, capable of both active and passive shape changes. It was autonomous, capable of passive behavior changes due to environmental impact, and could actively change its behavior in response to environmental influences. It was a marvel of modern engineering, but it was also a gamble.\\n\\nThe material's maintenance-intensive nature meant that it required regular upkeep to maintain its functionality. This was a challenge, as it added to the overall cost of the project and required a dedicated team for its maintenance. The fact that it was easily destructible was another concern. We had to ensure that the housing complex was built in a way that minimized potential damage.\\n\\nThe acceptance of this new material system was also uncertain. Would people be willing to live in a house made of a material that was so different from traditional construction materials? Would they trust its reliability, despite its need for regular maintenance and its vulnerability to damage?\\n\\nDespite these challenges, we believed in the potential of this new material. It was reliable, self-healing, resistant, self-repairing, durable, robust, and long-lasting. We knew that if we could successfully navigate its challenges, it could revolutionize the construction industry.\\n\\nAs the marketing manager, it was my job to communicate the benefits of this new material system to potential buyers. I had to convince them that despite its maintenance-intensive nature and its vulnerability to damage, it was a worthwhile investment. I had to assure them that our company was committed to maintaining the material and ensuring its longevity.\\n\\nIt was a challenging task, but I was ready to take it on. I believed in the potential of this new material system, and I was determined to help our company succeed in this ambitious project.\"]"
      ]
     },
     "execution_count": 10,
     "metadata": {},
     "output_type": "execute_result"
    }
   ],
   "source": [
    "result"
   ]
  },
  {
   "cell_type": "code",
   "execution_count": 11,
   "metadata": {},
   "outputs": [
    {
     "ename": "AttributeError",
     "evalue": "module 'src.get_data' has no attribute 'save_results_to_csv'",
     "output_type": "error",
     "traceback": [
      "\u001b[1;31m---------------------------------------------------------------------------\u001b[0m",
      "\u001b[1;31mAttributeError\u001b[0m                            Traceback (most recent call last)",
      "Cell \u001b[1;32mIn[11], line 1\u001b[0m\n\u001b[1;32m----> 1\u001b[0m \u001b[43mget_data\u001b[49m\u001b[38;5;241;43m.\u001b[39;49m\u001b[43msave_results_to_csv\u001b[49m(\u001b[38;5;124m'\u001b[39m\u001b[38;5;124mresult.csv\u001b[39m\u001b[38;5;124m'\u001b[39m, result)\n",
      "\u001b[1;31mAttributeError\u001b[0m: module 'src.get_data' has no attribute 'save_results_to_csv'"
     ]
    }
   ],
   "source": [
    "get_data.save_results_to_csv('result.csv', result)"
   ]
  },
  {
   "cell_type": "code",
   "execution_count": 12,
   "metadata": {},
   "outputs": [],
   "source": [
    "result_df = pd.read_csv('./output/result.csv')"
   ]
  },
  {
   "cell_type": "code",
   "execution_count": 13,
   "metadata": {},
   "outputs": [
    {
     "ename": "AttributeError",
     "evalue": "module 'src.get_data' has no attribute 'check_for_missing_matching_words'",
     "output_type": "error",
     "traceback": [
      "\u001b[1;31m---------------------------------------------------------------------------\u001b[0m",
      "\u001b[1;31mAttributeError\u001b[0m                            Traceback (most recent call last)",
      "Cell \u001b[1;32mIn[13], line 2\u001b[0m\n\u001b[0;32m      1\u001b[0m get_data\u001b[38;5;241m=\u001b[39mreload(get_data)\n\u001b[1;32m----> 2\u001b[0m text_check \u001b[38;5;241m=\u001b[39m \u001b[43mget_data\u001b[49m\u001b[38;5;241;43m.\u001b[39;49m\u001b[43mcheck_for_missing_matching_words\u001b[49m(result_df[\u001b[38;5;124m'\u001b[39m\u001b[38;5;124mtext\u001b[39m\u001b[38;5;124m'\u001b[39m], df_partitions, [\u001b[38;5;241m1\u001b[39m,\u001b[38;5;241m2\u001b[39m], \u001b[38;5;241m0.5\u001b[39m)\n\u001b[0;32m      3\u001b[0m \u001b[38;5;28mprint\u001b[39m(text_check)\n",
      "\u001b[1;31mAttributeError\u001b[0m: module 'src.get_data' has no attribute 'check_for_missing_matching_words'"
     ]
    }
   ],
   "source": [
    "get_data=reload(get_data)\n",
    "text_check = get_data.check_for_missing_matching_words(result_df['text'], df_partitions, [1,2], 0.5)\n",
    "print(text_check)"
   ]
  }
 ],
 "metadata": {
  "kernelspec": {
   "display_name": "spaceenvironment",
   "language": "python",
   "name": "python3"
  },
  "language_info": {
   "codemirror_mode": {
    "name": "ipython",
    "version": 3
   },
   "file_extension": ".py",
   "mimetype": "text/x-python",
   "name": "python",
   "nbconvert_exporter": "python",
   "pygments_lexer": "ipython3",
   "version": "3.10.14"
  }
 },
 "nbformat": 4,
 "nbformat_minor": 2
}
