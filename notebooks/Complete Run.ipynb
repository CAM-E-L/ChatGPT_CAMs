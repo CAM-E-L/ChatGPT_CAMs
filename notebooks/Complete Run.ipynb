{
 "cells": [
  {
   "cell_type": "code",
   "execution_count": 21,
   "metadata": {},
   "outputs": [
    {
     "name": "stdout",
     "output_type": "stream",
     "text": [
      "C:\\Users\\fenn\\Downloads\\sdkoklsdkjsd\n"
     ]
    },
    {
     "name": "stderr",
     "output_type": "stream",
     "text": [
      "c:\\Users\\fenn\\AppData\\Local\\R-MINI~1\\lib\\site-packages\\IPython\\core\\magics\\osm.py:417: UserWarning: using dhist requires you to install the `pickleshare` library.\n",
      "  self.shell.db['dhist'] = compress_dhist(dhist)[-100:]\n"
     ]
    }
   ],
   "source": [
    "%cd ./../"
   ]
  },
  {
   "cell_type": "code",
   "execution_count": 22,
   "metadata": {},
   "outputs": [],
   "source": [
    "import os\n",
    "os.chdir('C:/DATEN/PHD/Project_ChatGPT')\n",
    "\n",
    "from importlib import reload\n",
    "import pandas as pd\n",
    "\n",
    "import src.prompt_functions as pi\n",
    "import src.prompt_text as pt\n",
    "import src.get_data as gd\n",
    "#import src.API_key as key"
   ]
  },
  {
   "cell_type": "code",
   "execution_count": 23,
   "metadata": {},
   "outputs": [],
   "source": [
    "df_partitions = pd.read_excel('./data/LeidenAlgorithm_solution.xlsx')\n",
    "df_partitions.rename(columns={'parition': 'partition'}, inplace=True)"
   ]
  },
  {
   "cell_type": "code",
   "execution_count": 24,
   "metadata": {},
   "outputs": [
    {
     "data": {
      "text/plain": [
       "'\\n<Background:\\n\\n<Task:\\n\"Imagine a scenario where a construction company is developing a new housing complex using a revolutionary but untested material system. \\nThe material is known to be \\'wartungsintensiv\\' (maintenance-intensive), has an uncertain \\'Akzeptanz eines neuen Materialsystems\\' \\n(acceptance of a new material system), and is \\'leicht zerstörbar\\' (easily destructible). \\n\\nWrite a short story related to this new material system.\\nImagine you are \\'Dave Smith\\', a marketing manager at the construction company.\\n({items_list})>\\n    Answer: '"
      ]
     },
     "execution_count": 24,
     "metadata": {},
     "output_type": "execute_result"
    }
   ],
   "source": [
    "pt=reload(pt)\n",
    "pi=reload(pi)\n",
    "prompt_text = pt.template_partitions\n",
    "prompt_text"
   ]
  },
  {
   "cell_type": "code",
   "execution_count": 25,
   "metadata": {},
   "outputs": [
    {
     "name": "stdout",
     "output_type": "stream",
     "text": [
      "\n",
      "<Background:\n",
      "\n",
      "<Task:\n",
      "\"Imagine a scenario where a construction company is developing a new housing complex using a revolutionary but untested material system. \n",
      "The material is known to be 'wartungsintensiv' (maintenance-intensive), has an uncertain 'Akzeptanz eines neuen Materialsystems' \n",
      "(acceptance of a new material system), and is 'leicht zerstörbar' (easily destructible). \n",
      "\n",
      "Write a short story related to this new material system.\n",
      "Imagine you are 'Dave Smith', a marketing manager at the construction company.\n",
      "(aktive Formänderung durch Umwelteinwirkung, reaktionsfähig, passive Formänderung durch Umwelteinwirkung, autonom, passive Verhaltensänderung durch Umwelteinwirkung, aktive Verhaltensänderung durch Umwelteinwirkung, intelligent, multifunktional, technologisch, zuverlässig, wartungsfrei, selbstheilend, widerstandsfähig, selbstreparierend, haltbar, robust, langlebig)>\n",
      "    Answer: \n"
     ]
    }
   ],
   "source": [
    "pi=reload(pi)\n",
    "chosen_partitions = [1, 2] \n",
    "examplary_template = pi.prompt_template(df_partitions, chosen_partitions, prompt_text)\n",
    "print(examplary_template)"
   ]
  },
  {
   "cell_type": "code",
   "execution_count": 26,
   "metadata": {},
   "outputs": [],
   "source": [
    "# add hidden information"
   ]
  },
  {
   "cell_type": "code",
   "execution_count": 27,
   "metadata": {},
   "outputs": [
    {
     "name": "stderr",
     "output_type": "stream",
     "text": [
      "c:\\Users\\fenn\\AppData\\Local\\R-MINI~1\\lib\\site-packages\\langchain_core\\_api\\deprecation.py:119: LangChainDeprecationWarning: The class `LLMChain` was deprecated in LangChain 0.1.17 and will be removed in 0.3.0. Use RunnableSequence, e.g., `prompt | llm` instead.\n",
      "  warn_deprecated(\n"
     ]
    },
    {
     "name": "stdout",
     "output_type": "stream",
     "text": [
      "Tokens Used: 384\n",
      "\tPrompt Tokens: 234\n",
      "\tCompletion Tokens: 150\n",
      "Successful Requests: 1\n",
      "Total Cost (USD): $0.000651\n"
     ]
    }
   ],
   "source": [
    "result, full_response = pi.process_partitions(df_partitions, prompt_text, api_key, model=\"gpt-3.5-turbo\", chosen_partitions=[(1,2)], max_tokens=150, max_API_calls=1) \n",
    "\n",
    "print(result)\n",
    "print(full_response)"
   ]
  },
  {
   "cell_type": "code",
   "execution_count": 28,
   "metadata": {},
   "outputs": [
    {
     "name": "stdout",
     "output_type": "stream",
     "text": [
      "File already exists. Using new filename: _1.csv\n",
      "Data has been written to _1.csv\n"
     ]
    }
   ],
   "source": [
    "import csv\n",
    "\n",
    "filename = './output/result_random.csv'\n",
    "\n",
    "counter = 1\n",
    "base_name = filename.split('.')[0]\n",
    "extension = filename.split('.')[-1]\n",
    "new_filename = filename\n",
    "\n",
    "while os.path.exists(new_filename):\n",
    "    new_filename = f\"{base_name}_{counter}.{extension}\"\n",
    "    counter += 1\n",
    "if new_filename != filename:\n",
    "    print(\"File already exists. Using new filename:\", new_filename)\n",
    "with open(new_filename, mode='w', newline='', encoding='utf-8') as file:\n",
    "    writer = csv.writer(file)\n",
    "    # each result as a new row\n",
    "    for entry in result:\n",
    "        writer.writerow([entry])\n",
    "print(\"Data has been written to\", new_filename)"
   ]
  }
 ],
 "metadata": {
  "kernelspec": {
   "display_name": "spaceenvironment",
   "language": "python",
   "name": "python3"
  },
  "language_info": {
   "codemirror_mode": {
    "name": "ipython",
    "version": 3
   },
   "file_extension": ".py",
   "mimetype": "text/x-python",
   "name": "python",
   "nbconvert_exporter": "python",
   "pygments_lexer": "ipython3",
   "version": "3.10.14"
  }
 },
 "nbformat": 4,
 "nbformat_minor": 2
}
