{
 "cells": [
  {
   "cell_type": "markdown",
   "metadata": {},
   "source": [
    "## Collection of links (internal, will be removed)\n",
    "\n",
    "* https://docs.anthropic.com/en/prompt-library/library\n",
    "* https://developers.google.com/machine-learning/resources/prompt-eng"
   ]
  },
  {
   "cell_type": "markdown",
   "metadata": {},
   "source": [
    "# Summarize CAM pictures"
   ]
  },
  {
   "cell_type": "markdown",
   "metadata": {},
   "source": [
    "## Further information\n",
    "\n",
    "blub, something like \"To provide specific prompting please use the following structure...\"\n",
    "\n",
    "Please define manually the following vartiables:\n",
    "\n",
    "* ..."
   ]
  },
  {
   "cell_type": "markdown",
   "metadata": {},
   "source": [
    "## Individual settings\n",
    "*to be defined by a user*"
   ]
  },
  {
   "cell_type": "code",
   "execution_count": null,
   "metadata": {},
   "outputs": [],
   "source": [
    "# necessary individual information from user\n",
    "specificPromting = \"blalba\"\n",
    "\n",
    "createPictures = False # set to true if you want to create CAM pictures from a raw data set\n",
    "if createPictures:\n",
    "    # provide name of data set, please save the dataset in folder X\n",
    "    filenameCAMdata = \"blalba\""
   ]
  },
  {
   "cell_type": "markdown",
   "metadata": {},
   "source": [
    "## Load modules"
   ]
  },
  {
   "cell_type": "code",
   "execution_count": 4,
   "metadata": {},
   "outputs": [],
   "source": [
    "import os\n",
    "#os.chdir('C:/Users/fenn/Downloads/sdkoklsdkjsd/basal_attributes-main_branch')\n",
    "\n",
    "from importlib import reload\n",
    "import pandas as pd\n",
    "\n",
    "# from langchain.chat_models import ChatOpenAI\n",
    "from langchain_openai import ChatOpenAI\n",
    "from langchain_openai import OpenAI\n",
    "from langchain.callbacks import get_openai_callback\n",
    "\n",
    "from langchain.callbacks import get_openai_callback\n",
    "from langchain import PromptTemplate, LLMChain\n",
    "import pandas as pd\n",
    "import random\n",
    "import itertools\n",
    "import time\n",
    "from collections import defaultdict\n",
    "import tiktoken\n",
    "import numpy as np\n",
    "\n",
    "## load in external data\n",
    "# general prompting\n",
    "import src.prompt_text as pt\n",
    "# get data\n",
    "import src.get_data as gd\n",
    "## load in self-written functions\n",
    "import src.prompt_functions as pf"
   ]
  },
  {
   "attachments": {},
   "cell_type": "markdown",
   "metadata": {},
   "source": [
    "## 1. create CAM picture\n",
    "@Julius"
   ]
  },
  {
   "cell_type": "code",
   "execution_count": null,
   "metadata": {},
   "outputs": [],
   "source": [
    "if createPictures:\n",
    "    print(\"aaa\")"
   ]
  },
  {
   "cell_type": "markdown",
   "metadata": {},
   "source": [
    "## 2. summarize CAMs\n",
    "@Dara, @Julius"
   ]
  },
  {
   "cell_type": "code",
   "execution_count": null,
   "metadata": {},
   "outputs": [],
   "source": [
    "# add code"
   ]
  },
  {
   "cell_type": "markdown",
   "metadata": {},
   "source": [
    "## 3. summarize the summary of CAMs"
   ]
  },
  {
   "cell_type": "code",
   "execution_count": null,
   "metadata": {},
   "outputs": [],
   "source": [
    "# add code"
   ]
  },
  {
   "cell_type": "markdown",
   "metadata": {},
   "source": [
    "# Acknowledgements\n",
    "\n",
    "Code was motivated by XYZ\n",
    "\n",
    "\n",
    "Thanks to blub"
   ]
  }
 ],
 "metadata": {
  "interpreter": {
   "hash": "81794d4967e6c3204c66dcd87b604927b115b27c00565d3d43f05ba2f3a2cb0d"
  },
  "kernelspec": {
   "display_name": "Python 3.9.5 64-bit",
   "language": "python",
   "name": "python3"
  },
  "language_info": {
   "codemirror_mode": {
    "name": "ipython",
    "version": 3
   },
   "file_extension": ".py",
   "mimetype": "text/x-python",
   "name": "python",
   "nbconvert_exporter": "python",
   "pygments_lexer": "ipython3",
   "version": "3.10.14"
  }
 },
 "nbformat": 4,
 "nbformat_minor": 4
}
