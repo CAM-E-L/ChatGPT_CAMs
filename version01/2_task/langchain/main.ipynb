{
 "cells": [
  {
   "cell_type": "markdown",
   "metadata": {},
   "source": [
    "pip install -U langchain-openai"
   ]
  },
  {
   "cell_type": "markdown",
   "metadata": {},
   "source": [
    "pip install base64 langchain openai"
   ]
  },
  {
   "cell_type": "code",
   "execution_count": 3,
   "metadata": {},
   "outputs": [],
   "source": [
    "from src.process_image import process_images\n",
    "from src.save_to_csv import save_to_csv"
   ]
  },
  {
   "cell_type": "code",
   "execution_count": 4,
   "metadata": {},
   "outputs": [
    {
     "name": "stdout",
     "output_type": "stream",
     "text": [
      "2024-06-18 20:40:50.602626\n"
     ]
    }
   ],
   "source": [
    "def main():\n",
    "    directory = \"path/to/your/image/directory\"\n",
    "    # directory = \"/Users/dara/Desktop/CAMS\"\n",
    "    descriptions = process_images(directory)\n",
    "    \n",
    "    # csv gets saved to same directory as CAM PNGs with the name: CAM_Beschreibung.csvs\n",
    "    save_to_csv(directory, descriptions)\n",
    "    \n",
    "\n",
    "if __name__ == \"__main__\":\n",
    "    main()"
   ]
  }
 ],
 "metadata": {
  "kernelspec": {
   "display_name": "Python 3",
   "language": "python",
   "name": "python3"
  },
  "language_info": {
   "codemirror_mode": {
    "name": "ipython",
    "version": 3
   },
   "file_extension": ".py",
   "mimetype": "text/x-python",
   "name": "python",
   "nbconvert_exporter": "python",
   "pygments_lexer": "ipython3",
   "version": "3.10.6"
  }
 },
 "nbformat": 4,
 "nbformat_minor": 2
}
