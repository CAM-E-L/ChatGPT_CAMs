{
 "cells": [
  {
   "cell_type": "code",
   "execution_count": null,
   "metadata": {},
   "outputs": [],
   "source": [
    "%pip install -U langchain-openai\n",
    "%pip install langchain openai pillow"
   ]
  },
  {
   "cell_type": "code",
   "execution_count": null,
   "metadata": {},
   "outputs": [],
   "source": [
    "from src.get_image_description import process_images_directory\n",
    "import os\n",
    "\n",
    "def main():    \n",
    "    # directory = \"path/to/your/image/directory\"\n",
    "    os.chdir(\"../test_pictures/\") \n",
    "    directory = os.getcwd()\n",
    "    print(f\"CAM Images Directory: {directory}\")\n",
    "\n",
    "    process_images_directory(directory)\n",
    "    \n",
    "if __name__ == \"__main__\":\n",
    "    main()"
   ]
  }
 ],
 "metadata": {
  "kernelspec": {
   "display_name": "Python 3",
   "language": "python",
   "name": "python3"
  },
  "language_info": {
   "codemirror_mode": {
    "name": "ipython",
    "version": 3
   },
   "file_extension": ".py",
   "mimetype": "text/x-python",
   "name": "python",
   "nbconvert_exporter": "python",
   "pygments_lexer": "ipython3",
   "version": "3.10.6"
  }
 },
 "nbformat": 4,
 "nbformat_minor": 2
}
