{
 "cells": [
  {
   "cell_type": "markdown",
   "metadata": {},
   "source": [
    "Necessary Imports"
   ]
  },
  {
   "cell_type": "code",
   "execution_count": 36,
   "metadata": {},
   "outputs": [
    {
     "name": "stdout",
     "output_type": "stream",
     "text": [
      "C:/DATEN/PHD/Project_CAMsLLM/version01/2_task/test_pictures\n"
     ]
    }
   ],
   "source": [
    "import base64\n",
    "import requests\n",
    "import os\n",
    "from src.encode_image import encode_image\n",
    "from src.headers import headers\n",
    "from src.API_key import openai_api_key\n",
    "from src.directory_path import directory_path\n",
    "from src.iterate_files import iterate_files\n",
    "directory_path = \"C:/DATEN/PHD/Project_CAMsLLM/version01/2_task/test_pictures\"\n",
    "print(directory_path)"
   ]
  },
  {
   "cell_type": "markdown",
   "metadata": {},
   "source": [
    "We will iterate through all files in the specified directory which have '.jpg', '.jpeg' or '.png' formats. Feed them to the LLM through the API and get descriptions for each one."
   ]
  },
  {
   "cell_type": "code",
   "execution_count": 37,
   "metadata": {},
   "outputs": [
    {
     "name": "stdout",
     "output_type": "stream",
     "text": [
      "Response for CAMsvg-001.png:\n",
      "The image features two concept maps related to office work environments titled \"Ehemaliges Arbeiten im Büro\" (former office work) and \"Aktuelles Arbeiten im Büro-Raum\" (current office work).\n",
      "\n",
      "### Ehemaliges Arbeiten im Büro (left side)\n",
      "- **Central Node**: \"Ehemaliges Arbeiten im Büro\" (former office work conditions).\n",
      "- **Green Ovals** (positive aspects):\n",
      "  - \"ergonomie\" (ergonomics)\n",
      "  - \"moderne Technik\" (modern technology)\n",
      "  - \"kurze Wege\" (short ways)\n",
      "  - \"ein Büro\" (an office)\n",
      "  - \"Sozialräume\" (common rooms)\n",
      "  - \"Ruhe/Arbeitswohlergrn\" (quiet work environment)\n",
      "- **Red Hexagons** (negative aspects):\n",
      "  - \"kein fester Arbeitsplatz\" (no fixed workplace)\n",
      "  - \"unangenehmer Arbeitsweg\" (unpleasant commute)\n",
      "\n",
      "### Aktuelles Arbeiten im Büro-Raum (right side)\n",
      "- **Central Node**: \"aktuelles Arbeiten im Büro-Raum\" (current office working conditions).\n",
      "- **Green Ovals** (positive aspects):\n",
      "  - \"moderne Ausstattung\" (modern equipment)\n",
      "  - \"moderne Technik\" (modern technology)\n",
      "  - \"ein Raum \" (one room/space)\n",
      "  - \"Sozialräume\" (common rooms)\n",
      "- **Red Hexagons** (negative aspects):\n",
      "  - \"Gerausch\n",
      "\n",
      "==================================================\n",
      "\n"
     ]
    }
   ],
   "source": [
    "iterate_files(directory_path)"
   ]
  }
 ],
 "metadata": {
  "kernelspec": {
   "display_name": "Python 3",
   "language": "python",
   "name": "python3"
  },
  "language_info": {
   "codemirror_mode": {
    "name": "ipython",
    "version": 3
   },
   "file_extension": ".py",
   "mimetype": "text/x-python",
   "name": "python",
   "nbconvert_exporter": "python",
   "pygments_lexer": "ipython3",
   "version": "3.11.9"
  }
 },
 "nbformat": 4,
 "nbformat_minor": 2
}
