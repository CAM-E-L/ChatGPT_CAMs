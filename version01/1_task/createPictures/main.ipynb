{
 "cells": [
  {
   "cell_type": "markdown",
   "metadata": {},
   "source": [
    "# Import statements\n",
    "*All necessary modules and functions are loaded.*\n",
    "\n",
    "If you not using a Windows PC you can comment out \"os.environ['path']\", if you using a Windows PC, please specifiy the path to the installed \"UniConvertor 2.0\" (see: https://stackoverflow.com/questions/32302379/could-not-find-a-version-that-satisfies-the-requirement-package)."
   ]
  },
  {
   "cell_type": "code",
   "execution_count": 1,
   "metadata": {},
   "outputs": [],
   "source": [
    "import os\n",
    "# to import cairosvg on windows\n",
    "os.environ['path'] += r';C:\\Program Files\\UniConvertor-2.0rc5\\dlls' # Change if necessary!!!\n",
    "\n",
    "## get functions to create images\n",
    "import createImages\n",
    "## get functions to handle files\n",
    "import fileHandling"
   ]
  },
  {
   "cell_type": "markdown",
   "metadata": {},
   "source": [
    "# Define settings (by user)\n",
    "*The user needs (1) run the CAMEL software locally, (2) if necessary change the config of the CAMEL software and (3) define the webadress of the local CAMEL.*\n",
    "\n",
    "1. to run the CAMEL software locally, you could do the following:\n",
    "    - install Visual Studio Code (https://code.visualstudio.com/)\n",
    "    - install the live server extension (https://marketplace.visualstudio.com/items?itemName=ritwickdey.LiveServer)\n",
    "    - within Visual Studio Code go the the \"index.html\" file within the CAMELlocal folder\n",
    "2. ...\n",
    "3. ..."
   ]
  },
  {
   "cell_type": "markdown",
   "metadata": {},
   "source": [
    "## Define parametes\n"
   ]
  },
  {
   "cell_type": "code",
   "execution_count": 10,
   "metadata": {},
   "outputs": [
    {
     "name": "stdout",
     "output_type": "stream",
     "text": [
      "CWD is:  c:\\DATEN\\PHD\\Project_CAMsLLM\\version01\\1_task\\createPictures\n",
      "Input folder (drop file from jatos here) is:  c:\\DATEN\\PHD\\Project_CAMsLLM\\version01\\1_task\\createPictures\\input\n"
     ]
    }
   ],
   "source": [
    "adress = \"http://127.0.0.1:5501/version01/1_task/CAMELlocal/index.html\" # Change if necessary!!!\n",
    "inputFileFormats = [\".json\", \".txt\"]  # Allowed file formats for CAM-files\n",
    "cwd = os.getcwd()\n",
    "print(\"CWD is: \", cwd)\n",
    "\n",
    "inpFolder = os.path.join(cwd, \"input\")\n",
    "print(\"Input folder (drop file from jatos here) is: \", inpFolder)\n",
    "\n",
    "# path to folders\n",
    "splitDataFolder = os.path.join(cwd, \"split-data\")\n",
    "saveDir = os.path.join(cwd, \"SVGs\")\n",
    "pngDir = os.path.join(cwd, \"PNGs\")"
   ]
  },
  {
   "cell_type": "markdown",
   "metadata": {},
   "source": [
    "# Defining paths to folders"
   ]
  },
  {
   "cell_type": "code",
   "execution_count": 11,
   "metadata": {},
   "outputs": [
    {
     "name": "stdout",
     "output_type": "stream",
     "text": [
      "Input files used are:  ['c:\\\\DATEN\\\\PHD\\\\Project_CAMsLLM\\\\version01\\\\1_task\\\\createPictures\\\\input\\\\CAMs(N=28).txt']\n"
     ]
    }
   ],
   "source": [
    "txtList = []\n",
    "for file in os.listdir(inpFolder):\n",
    "    if file.endswith(\".txt\"):\n",
    "        txtList.append(os.path.join(inpFolder, file))\n",
    "\n",
    "if len(txtList) < 1 :\n",
    "    print(\"No input file(s) provided!\")\n",
    "else:\n",
    "    print(\"Input files used are: \", str(txtList))"
   ]
  },
  {
   "cell_type": "markdown",
   "metadata": {},
   "source": [
    "# Split files"
   ]
  },
  {
   "cell_type": "code",
   "execution_count": 12,
   "metadata": {},
   "outputs": [
    {
     "name": "stdout",
     "output_type": "stream",
     "text": [
      "c:\\DATEN\\PHD\\Project_CAMsLLM\\version01\\1_task\\createPictures\\input\\CAMs(N=28).txt\n",
      "Splitting ...\n",
      "Splitting files into 29 files while writing 0 failed.\n"
     ]
    }
   ],
   "source": [
    "totalNumFilesCreated = 0\n",
    "totalNumFilesFailed = 0\n",
    "\n",
    "for txtFile in txtList:\n",
    "    print(txtFile)\n",
    "    try:\n",
    "        numFilesCreated, numFilesFailed = fileHandling.splitFile(txtFile, \"split_\", savefolder=splitDataFolder)\n",
    "        totalNumFilesCreated += numFilesCreated\n",
    "        totalNumFilesFailed += totalNumFilesFailed\n",
    "    except:\n",
    "        print(\"Splittin \", txtFile, \"failed. Is it a valid CAM file?\")\n",
    "\n",
    "print(\"Splitting files into \" + str(totalNumFilesCreated) + \" files\" + \" while writing \" + str(totalNumFilesFailed) + \" failed.\")\n",
    "splitFiles = fileHandling.listFilesInFolder(folderPath=str(splitDataFolder), patterns=inputFileFormats)"
   ]
  },
  {
   "cell_type": "markdown",
   "metadata": {},
   "source": [
    "# Create Images"
   ]
  },
  {
   "cell_type": "code",
   "execution_count": 13,
   "metadata": {},
   "outputs": [
    {
     "name": "stdout",
     "output_type": "stream",
     "text": [
      "the file c:\\DATEN\\PHD\\Project_CAMsLLM\\version01\\1_task\\createPictures\\split-data\\001split_.txt was loaded\n",
      "the file c:\\DATEN\\PHD\\Project_CAMsLLM\\version01\\1_task\\createPictures\\split-data\\002split_.txt was loaded\n",
      "the file c:\\DATEN\\PHD\\Project_CAMsLLM\\version01\\1_task\\createPictures\\split-data\\003split_.txt was loaded\n",
      "the file c:\\DATEN\\PHD\\Project_CAMsLLM\\version01\\1_task\\createPictures\\split-data\\005split_.txt was loaded\n",
      "the file c:\\DATEN\\PHD\\Project_CAMsLLM\\version01\\1_task\\createPictures\\split-data\\006split_.txt was loaded\n",
      "the file c:\\DATEN\\PHD\\Project_CAMsLLM\\version01\\1_task\\createPictures\\split-data\\007split_.txt was loaded\n",
      "the file c:\\DATEN\\PHD\\Project_CAMsLLM\\version01\\1_task\\createPictures\\split-data\\008split_.txt was loaded\n",
      "the file c:\\DATEN\\PHD\\Project_CAMsLLM\\version01\\1_task\\createPictures\\split-data\\009split_.txt was loaded\n",
      "the file c:\\DATEN\\PHD\\Project_CAMsLLM\\version01\\1_task\\createPictures\\split-data\\010split_.txt was loaded\n",
      "the file c:\\DATEN\\PHD\\Project_CAMsLLM\\version01\\1_task\\createPictures\\split-data\\011split_.txt was loaded\n",
      "the file c:\\DATEN\\PHD\\Project_CAMsLLM\\version01\\1_task\\createPictures\\split-data\\012split_.txt was loaded\n",
      "the file c:\\DATEN\\PHD\\Project_CAMsLLM\\version01\\1_task\\createPictures\\split-data\\013split_.txt was loaded\n",
      "the file c:\\DATEN\\PHD\\Project_CAMsLLM\\version01\\1_task\\createPictures\\split-data\\014split_.txt was loaded\n",
      "the file c:\\DATEN\\PHD\\Project_CAMsLLM\\version01\\1_task\\createPictures\\split-data\\015split_.txt was loaded\n",
      "the file c:\\DATEN\\PHD\\Project_CAMsLLM\\version01\\1_task\\createPictures\\split-data\\017split_.txt was loaded\n",
      "the file c:\\DATEN\\PHD\\Project_CAMsLLM\\version01\\1_task\\createPictures\\split-data\\018split_.txt was loaded\n",
      "the file c:\\DATEN\\PHD\\Project_CAMsLLM\\version01\\1_task\\createPictures\\split-data\\019split_.txt was loaded\n",
      "the file c:\\DATEN\\PHD\\Project_CAMsLLM\\version01\\1_task\\createPictures\\split-data\\020split_.txt was loaded\n",
      "the file c:\\DATEN\\PHD\\Project_CAMsLLM\\version01\\1_task\\createPictures\\split-data\\021split_.txt was loaded\n",
      "the file c:\\DATEN\\PHD\\Project_CAMsLLM\\version01\\1_task\\createPictures\\split-data\\022split_.txt was loaded\n",
      "the file c:\\DATEN\\PHD\\Project_CAMsLLM\\version01\\1_task\\createPictures\\split-data\\024split_.txt was loaded\n",
      "the file c:\\DATEN\\PHD\\Project_CAMsLLM\\version01\\1_task\\createPictures\\split-data\\025split_.txt was loaded\n",
      "the file c:\\DATEN\\PHD\\Project_CAMsLLM\\version01\\1_task\\createPictures\\split-data\\026split_.txt was loaded\n",
      "the file c:\\DATEN\\PHD\\Project_CAMsLLM\\version01\\1_task\\createPictures\\split-data\\028split_.txt was loaded\n",
      "the file c:\\DATEN\\PHD\\Project_CAMsLLM\\version01\\1_task\\createPictures\\split-data\\029split_.txt was loaded\n",
      "the file c:\\DATEN\\PHD\\Project_CAMsLLM\\version01\\1_task\\createPictures\\split-data\\030split_.txt was loaded\n",
      "the file c:\\DATEN\\PHD\\Project_CAMsLLM\\version01\\1_task\\createPictures\\split-data\\031split_.txt was loaded\n",
      "the file c:\\DATEN\\PHD\\Project_CAMsLLM\\version01\\1_task\\createPictures\\split-data\\032split_.txt was loaded\n",
      "the file c:\\DATEN\\PHD\\Project_CAMsLLM\\version01\\1_task\\createPictures\\split-data\\032split_1.txt was loaded\n",
      "Operation finished\n"
     ]
    }
   ],
   "source": [
    "try:\n",
    "    browser = createImages.initBrowser(adress=adress, pathOut=saveDir)  # Initializing a firefox-browser window with CAMEL\n",
    "except:\n",
    "    print(\"Failed to open browser window with CAMEL! Is firefox installed and the adress variable correctly set?\")\n",
    "\n",
    "\n",
    "try:\n",
    "    createImages.createSVGs(driver=browser, filesIn=splitFiles)  # Opening CAMEL in the browser Window, Loading CAMs into CAMEL ans saving a SVG of each CAM \n",
    "    browser.quit()  # Closing browser window(s) opened by the program\n",
    "    print(\"Operation finished\")\n",
    "except:\n",
    "    print(\"There was a problem with getting the vector graphics. Returning to the main menue\")"
   ]
  },
  {
   "cell_type": "markdown",
   "metadata": {},
   "source": [
    "# Convert Images to PNG"
   ]
  },
  {
   "cell_type": "code",
   "execution_count": 14,
   "metadata": {},
   "outputs": [
    {
     "name": "stdout",
     "output_type": "stream",
     "text": [
      "Converted images saved to:  c:\\DATEN\\PHD\\Project_CAMsLLM\\version01\\1_task\\createPictures\\PNGs\n"
     ]
    }
   ],
   "source": [
    "svgFileList = []\n",
    "for file in os.listdir(saveDir):\n",
    "    if file.endswith(\".svg\"):\n",
    "        svgFileList.append(os.path.join(saveDir, file))\n",
    "\n",
    "svgFilePathNameDict = fileHandling.prepSVGsForConversion(svgFileList)\n",
    "createImages.convertSVGs(inputSVGsDict=svgFilePathNameDict, pathOut=pngDir)\n",
    "print(\"Converted images saved to: \", str(pngDir))\n"
   ]
  }
 ],
 "metadata": {
  "kernelspec": {
   "display_name": "Python 3",
   "language": "python",
   "name": "python3"
  },
  "language_info": {
   "codemirror_mode": {
    "name": "ipython",
    "version": 3
   },
   "file_extension": ".py",
   "mimetype": "text/x-python",
   "name": "python",
   "nbconvert_exporter": "python",
   "pygments_lexer": "ipython3",
   "version": "3.11.9"
  }
 },
 "nbformat": 4,
 "nbformat_minor": 2
}
