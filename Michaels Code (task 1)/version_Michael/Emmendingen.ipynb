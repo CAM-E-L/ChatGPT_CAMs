{
 "cells": [
  {
   "cell_type": "markdown",
   "metadata": {},
   "source": [
    "# Import statements"
   ]
  },
  {
   "cell_type": "code",
   "execution_count": 38,
   "metadata": {},
   "outputs": [],
   "source": [
    "import sys\n",
    "#from pathlib import Path\n",
    "import createImages\n",
    "#import cam2imageGUI as GUI\n",
    "import fileHandling\n",
    "import os"
   ]
  },
  {
   "cell_type": "markdown",
   "metadata": {},
   "source": [
    "# Defining basic settings\n",
    "*adress* sets the (web/lokal) adress where CAMEL is deployed (-> check the adress bar in your browser. Adjust if needed)."
   ]
  },
  {
   "cell_type": "code",
   "execution_count": 39,
   "metadata": {},
   "outputs": [
    {
     "name": "stdout",
     "output_type": "stream",
     "text": [
      "CWD is:  d:\\Coding\\CAM\\CAM2Image\\Citizen_Science_Script\n",
      "Input folder (drop file from jatos here) is:  d:\\Coding\\CAM\\CAM2Image\\Citizen_Science_Script\\input\n"
     ]
    }
   ],
   "source": [
    "adress = \"http://127.0.0.1:5500\" # Change if necessary!\n",
    "inputFileFormats = [\".json\", \".txt\"]  # Allowed file formats for CAM-files\n",
    "cwd = os.getcwd()\n",
    "print(\"CWD is: \", cwd)\n",
    "\n",
    "inpFolder = os.path.join(cwd, \"input\")\n",
    "print(\"Input folder (drop file from jatos here) is: \", inpFolder)\n",
    "\n",
    "splitDataFolder = os.path.join(cwd, \"split-data\")\n",
    "saveDir = os.path.join(cwd, \"SVGs\")\n",
    "pngDir = os.path.join(cwd, \"PNGs\")"
   ]
  },
  {
   "cell_type": "markdown",
   "metadata": {},
   "source": [
    "# Defining paths to folders"
   ]
  },
  {
   "cell_type": "code",
   "execution_count": 49,
   "metadata": {},
   "outputs": [
    {
     "name": "stdout",
     "output_type": "stream",
     "text": [
      "Input files used are:  ['d:\\\\Coding\\\\CAM\\\\CAM2Image\\\\Citizen_Science_Script\\\\input\\\\jatos_results_data_20231130114748.txt']\n"
     ]
    }
   ],
   "source": [
    "txtList = []\n",
    "for file in os.listdir(inpFolder):\n",
    "    if file.endswith(\".txt\"):\n",
    "        txtList.append(os.path.join(inpFolder, file))\n",
    "\n",
    "if len(txtList) < 1 :\n",
    "    print(\"No input file(s) provided!\")\n",
    "else:\n",
    "    print(\"Input files used are: \", str(txtList))\n",
    "\n",
    "\n",
    "\n"
   ]
  },
  {
   "cell_type": "markdown",
   "metadata": {},
   "source": [
    "# Split files"
   ]
  },
  {
   "cell_type": "code",
   "execution_count": 50,
   "metadata": {},
   "outputs": [
    {
     "name": "stdout",
     "output_type": "stream",
     "text": [
      "d:\\Coding\\CAM\\CAM2Image\\Citizen_Science_Script\\input\\jatos_results_data_20231130114748.txt\n",
      "5 0\n",
      "Splitting files into 5 files while writing 0 failed.\n"
     ]
    }
   ],
   "source": [
    "totalNumFilesCreated = 0\n",
    "totalNumFilesFailed = 0\n",
    "\n",
    "for txtFile in txtList:\n",
    "    print(txtFile)\n",
    "    try:\n",
    "        numFilesCreated, numFilesFailed = fileHandling.splitFile(txtFile, \"split_\", savefolder=splitDataFolder)\n",
    "        totalNumFilesCreated += numFilesCreated\n",
    "        totalNumFilesFailed += totalNumFilesFailed\n",
    "    except:\n",
    "        print(\"Splittin \", txtFile, \"failed. Is it a valid CAM file?\")\n",
    "\n",
    "print(\"Splitting files into \" + str(totalNumFilesCreated) + \" files\" + \" while writing \" + str(totalNumFilesFailed) + \" failed.\")\n",
    "splitFiles = fileHandling.listFilesInFolder(folderPath=str(splitDataFolder), patterns=inputFileFormats)"
   ]
  },
  {
   "cell_type": "markdown",
   "metadata": {},
   "source": [
    "# Create Images"
   ]
  },
  {
   "cell_type": "code",
   "execution_count": 51,
   "metadata": {},
   "outputs": [
    {
     "name": "stdout",
     "output_type": "stream",
     "text": [
      "the file d:\\Coding\\CAM\\CAM2Image\\Citizen_Science_Script\\split-data\\675split_.txt was loaded\n",
      "the file d:\\Coding\\CAM\\CAM2Image\\Citizen_Science_Script\\split-data\\676split_.txt was loaded\n",
      "the file d:\\Coding\\CAM\\CAM2Image\\Citizen_Science_Script\\split-data\\677split_.txt was loaded\n",
      "the file d:\\Coding\\CAM\\CAM2Image\\Citizen_Science_Script\\split-data\\678split_.txt was loaded\n",
      "the file d:\\Coding\\CAM\\CAM2Image\\Citizen_Science_Script\\split-data\\679split_.txt was loaded\n",
      "Operation finished\n"
     ]
    }
   ],
   "source": [
    "try:\n",
    "    browser = createImages.initBrowser(adress=adress, pathOut=saveDir)  # Initializing a firefox-browser window with CAMEL\n",
    "except:\n",
    "    print(\"Failed to open browser window with CAMEL! Is firefox installed and the adress variable correctly set?\")\n",
    "\n",
    "\n",
    "try:\n",
    "    createImages.createSVGs(driver=browser, filesIn=splitFiles)  # Opening CAMEL in the browser Window, Loading CAMs into CAMEL ans saving a SVG of each CAM \n",
    "    browser.quit()  # Closing browser window(s) opened by the program\n",
    "    print(\"Operation finished\")\n",
    "except:\n",
    "    print(\"There was a problem with getting the vector graphics. Returning to the main menue\")"
   ]
  },
  {
   "cell_type": "markdown",
   "metadata": {},
   "source": [
    "# Convert Images to PNG"
   ]
  },
  {
   "cell_type": "code",
   "execution_count": 52,
   "metadata": {},
   "outputs": [
    {
     "name": "stdout",
     "output_type": "stream",
     "text": [
      "Converted images saved to:  d:\\Coding\\CAM\\CAM2Image\\Citizen_Science_Script\\PNGs\n"
     ]
    }
   ],
   "source": [
    "svgFileList = []\n",
    "for file in os.listdir(saveDir):\n",
    "    if file.endswith(\".svg\"):\n",
    "        svgFileList.append(os.path.join(saveDir, file))\n",
    "\n",
    "svgFilePathNameDict = fileHandling.prepSVGsForConversion(svgFileList)\n",
    "createImages.convertSVGs(inputSVGsDict=svgFilePathNameDict, pathOut=pngDir)\n",
    "print(\"Converted images saved to: \", str(pngDir))\n"
   ]
  }
 ],
 "metadata": {
  "kernelspec": {
   "display_name": "Python 3",
   "language": "python",
   "name": "python3"
  },
  "language_info": {
   "codemirror_mode": {
    "name": "ipython",
    "version": 3
   },
   "file_extension": ".py",
   "mimetype": "text/x-python",
   "name": "python",
   "nbconvert_exporter": "python",
   "pygments_lexer": "ipython3",
   "version": "3.9.4"
  }
 },
 "nbformat": 4,
 "nbformat_minor": 2
}
